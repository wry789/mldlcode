{
 "cells": [
  {
   "cell_type": "code",
   "execution_count": 131,
   "metadata": {
    "collapsed": true
   },
   "outputs": [
    {
     "data": {
      "text/plain": "'E:\\\\gitrep\\\\mldlcode\\\\HMM'"
     },
     "execution_count": 131,
     "metadata": {},
     "output_type": "execute_result"
    }
   ],
   "source": [
    "import os\n",
    "os.getcwd()\n",
    "os.chdir(\"E:\\\\gitrep\\\\mldlcode\\\\HMM\")\n",
    "import sys\n",
    "sys.path.append(\"E:\\\\gitrep\\\\mldlcode\\\\HMM\\\\model\")"
   ]
  },
  {
   "cell_type": "code",
   "execution_count": 132,
   "outputs": [
    {
     "data": {
      "text/plain": "<module 'HMM_Model' from 'E:\\\\gitrep\\\\mldlcode\\\\HMM\\\\model\\\\HMM_Model.py'>"
     },
     "execution_count": 132,
     "metadata": {},
     "output_type": "execute_result"
    }
   ],
   "source": [
    "import HMM_Model\n",
    "from imp import reload\n",
    "reload(HMM_Model)\n",
    "import numpy as np"
   ],
   "metadata": {
    "collapsed": false,
    "pycharm": {
     "name": "#%%\n"
    }
   }
  },
  {
   "cell_type": "code",
   "execution_count": 133,
   "outputs": [],
   "source": [
    "hmmmodel = HMM_Model.HiddenMarkov()"
   ],
   "metadata": {
    "collapsed": false,
    "pycharm": {
     "name": "#%%\n"
    }
   }
  },
  {
   "cell_type": "code",
   "execution_count": 134,
   "outputs": [
    {
     "name": "stdout",
     "output_type": "stream",
     "text": [
      "time 1 and observe state is 红\n",
      "hidden state 1 max deltas is 0.1000 and psis is 0.0\n",
      "hidden state 2 max deltas is 0.1600 and psis is 0.0\n",
      "hidden state 3 max deltas is 0.2800 and psis is 0.0\n",
      "time 2 and observe state is 白\n",
      "hidden state 1 max deltas is 0.0280 and psis is 2.0\n",
      "hidden state 2 max deltas is 0.0504 and psis is 2.0\n",
      "hidden state 3 max deltas is 0.0420 and psis is 2.0\n",
      "time 3 and observe state is 红\n",
      "hidden state 1 max deltas is 0.0076 and psis is 1.0\n",
      "hidden state 2 max deltas is 0.0101 and psis is 1.0\n",
      "hidden state 3 max deltas is 0.0147 and psis is 2.0\n",
      "time 4 and observe state is 白\n",
      "hidden state 1 max deltas is 0.0019 and psis is 0.0\n",
      "hidden state 2 max deltas is 0.0030 and psis is 1.0\n",
      "hidden state 3 max deltas is 0.0022 and psis is 2.0\n",
      "finally sequence is [3. 2. 2. 2.]\n"
     ]
    }
   ],
   "source": [
    "# 已知观测序列、初始概率分布，转移概率矩阵，输出概率矩阵，计算最优可能的隐状态序列\n",
    "Q = [1, 2, 3]\n",
    "V = ['红', '白']\n",
    "A = np.array([[0.5, 0.2, 0.3], [0.3, 0.5, 0.2], [0.2, 0.3, 0.5]])\n",
    "B = np.array([[0.5, 0.5], [0.4, 0.6], [0.7, 0.3]])\n",
    "O = ['红', '白', '红', '白']\n",
    "PI =[0.2, 0.4, 0.4]\n",
    "hmmmodel.viterbi(Q, V, A, B, O, PI)"
   ],
   "metadata": {
    "collapsed": false,
    "pycharm": {
     "name": "#%%\n"
    }
   }
  },
  {
   "cell_type": "code",
   "execution_count": 135,
   "outputs": [
    {
     "name": "stdout",
     "output_type": "stream",
     "text": [
      "time 7 and observe state is 白\n",
      "time 6 and observe state is 白\n",
      "time 5 and observe state is 红\n",
      "time 4 and observe state is 白\n",
      "time 3 and observe state is 红\n",
      "time 2 and observe state is 红\n",
      "time 1 and observe state is 白\n",
      "time 1 state 1 beta is 0.0070\n",
      "time 1 state 2 beta is 0.0074\n",
      "time 1 state 3 beta is 0.0065\n",
      "pi is [0.2, 0.4, 0.4]\n",
      "finally p is 0.0037\n",
      "===========================\n",
      "time 1 and observe state is 红\n",
      "time 2 and observe state is 白\n",
      "time 3 and observe state is 红\n",
      "time 4 and observe state is 红\n",
      "time 5 and observe state is 白\n",
      "time 6 and observe state is 红\n",
      "time 7 and observe state is 白\n",
      "time 8 and observe state is 白\n",
      "time 8 state 1 alpha is 0.0014\n",
      "time 8 state 2 alpha is 0.0016\n",
      "time 8 state 3 alpha is 0.0007\n",
      "finally p is 0.0037\n"
     ]
    }
   ],
   "source": [
    "# 已知初始概率矩阵，转移概率矩阵，输出概率矩阵，计算序列出现概率\n",
    "Q = [1, 2, 3]\n",
    "V = ['红', '白']\n",
    "A = np.array([[0.5, 0.2, 0.3], [0.3, 0.5, 0.2], [0.2, 0.3, 0.5]])\n",
    "B = np.array([[0.5, 0.5], [0.4, 0.6], [0.7, 0.3]])\n",
    "O = ['红', '白', '红', '红', '白', '红', '白', '白']\n",
    "PI =[0.2, 0.4, 0.4]\n",
    "hmmmodel.backward(Q, V, A, B, O, PI)\n",
    "print(\"===========================\")\n",
    "hmmmodel.forward(Q, V, A, B, O, PI)"
   ],
   "metadata": {
    "collapsed": false,
    "pycharm": {
     "name": "#%%\n"
    }
   }
  },
  {
   "cell_type": "code",
   "execution_count": 135,
   "outputs": [],
   "source": [],
   "metadata": {
    "collapsed": false,
    "pycharm": {
     "name": "#%%\n"
    }
   }
  }
 ],
 "metadata": {
  "kernelspec": {
   "name": "pycharm-b9c375a9",
   "language": "python",
   "display_name": "PyCharm (mldlcode)"
  },
  "language_info": {
   "codemirror_mode": {
    "name": "ipython",
    "version": 2
   },
   "file_extension": ".py",
   "mimetype": "text/x-python",
   "name": "python",
   "nbconvert_exporter": "python",
   "pygments_lexer": "ipython2",
   "version": "2.7.6"
  }
 },
 "nbformat": 4,
 "nbformat_minor": 0
}
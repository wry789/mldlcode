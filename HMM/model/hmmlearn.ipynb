{
 "cells": [
  {
   "cell_type": "markdown",
   "metadata": {},
   "source": [
    "HMM前向算法原理\n",
    "![B9r63Q.png](https://s1.ax1x.com/2020/10/21/B9r63Q.png)"
   ]
  },
  {
   "cell_type": "markdown",
   "metadata": {},
   "source": [
    "HMM前向算法代码逻辑\n",
    "![BCuJiT.png](https://s1.ax1x.com/2020/10/21/BCuJiT.png)"
   ]
  },
  {
   "cell_type": "markdown",
   "metadata": {},
   "source": [
    "HMM后向算法原理\n",
    "![BC1AC6.png](https://s1.ax1x.com/2020/10/21/BC1AC6.png)"
   ]
  },
  {
   "cell_type": "markdown",
   "metadata": {},
   "source": [
    "HMM后向算法代码逻辑\n",
    "![BPkLGj.jpg](https://s1.ax1x.com/2020/10/21/BPkLGj.jpg)"
   ]
  },
  {
   "cell_type": "markdown",
   "metadata": {},
   "source": [
    "HMM维特比算法\n",
    "![BPut3D.png](https://s1.ax1x.com/2020/10/21/BPut3D.png)"
   ]
  },
  {
   "cell_type": "markdown",
   "metadata": {},
   "source": [
    "HMM维特比例子\n",
    "![BPuWuj.jpg](https://s1.ax1x.com/2020/10/21/BPuWuj.jpg)"
   ]
  },
  {
   "cell_type": "code",
   "execution_count": null,
   "metadata": {},
   "outputs": [],
   "source": [
    "import numpy as np\n",
    "\n",
    "class HiddenMarkov:\n",
    "    def __init__(self):\n",
    "        self.alphas = None\n",
    "        self.forword_p = None # 前向概率\n",
    "        self.beats = None\n",
    "        self.backward_p = None\n",
    "\n",
    "    def forward(self,Q,V,A,B,O,PI):\n",
    "        \"\"\"\n",
    "        :param Q: 所有可能的隐藏状态的集合\n",
    "        :param V: 所有可能的观测状态的集合\n",
    "        :param O: 观测序列\n",
    "        :param A: 马尔科夫链的状态转移矩阵\n",
    "        :param B: 观测状态生成的概率矩阵\n",
    "        :param PI: 隐藏状态的初始概率分布\n",
    "        :return: P(O|λ)\n",
    "        \"\"\"\n",
    "        \"\"\"\n",
    "        Q = [1, 2, 3]\n",
    "        V = ['红', '白']\n",
    "        A = [[0.5, 0.2, 0.3], [0.3, 0.5, 0.2], [0.2, 0.3, 0.5]]\n",
    "        B = [[0.5, 0.5], [0.4, 0.6], [0.7, 0.3]]\n",
    "        # O = ['红', '白', '红', '红', '白', '红', '白', '白']\n",
    "        O = ['红', '白', '红', '白']   观察到的序列\n",
    "        PI = [0.2, 0.4, 0.4]   \n",
    "        \"\"\"\n",
    "\n",
    "        N = len(Q) # 隐藏状态序列长度\n",
    "        M = len(O) # 观测状态序列长度\n",
    "        alphas = np.zeros((N,M)) # 初始化前向概率\n",
    "        #       [[0., 0., 0., 0., 0.],\n",
    "        #        [0., 0., 0., 0., 0.],\n",
    "        #        [0., 0., 0., 0., 0.]]\n",
    "        # 行数为隐藏状态数，列数为时刻数\n",
    "        # 要计算各个时刻的各个隐藏状态的前向概率\n",
    "        T = M # 时刻数\n",
    "        # 算法原理 https://s1.ax1x.com/2020/10/21/B9r63Q.png\n",
    "        # 代码逻辑 https://s1.ax1x.com/2020/10/21/BCuJiT.png\n",
    "        for t in range(T):\n",
    "            index_O = V.index(O[t]) #当前观测状态在观测集合中的索引\n",
    "            print(f\"time {t + 1} and observe state is {O[t]}\")  # 因为这边python的索引是从0开始的\n",
    "            for i in range(N): # 计算各个隐藏状态的前向概率,\n",
    "                if t==0:\n",
    "                    alphas[i,t] = PI[i] * B[i,index_O]\n",
    "                #            红    白\n",
    "                # 隐藏状态1  [[0.5, 0.5],\n",
    "                # 隐藏状态2  [0.4, 0.6],\n",
    "                # 隐藏状态3  [0.7, 0.3]]\n",
    "                else:\n",
    "                    alphas[i,t] = np.dot([alpha[t - 1] for alpha in alphas],[a[i] for a in A]) * B[i,index_O]\n",
    "                if t == T-1:\n",
    "                        print(f\"time {t+1} state {Q[i]} alpha is {alphas[i, t]:.4f}\")\n",
    "\n",
    "        self.forword_p = np.sum([alpha[M - 1] for alpha in alphas])\n",
    "        self.alphas = alphas\n",
    "        print(f\"finally p is {self.forword_p:.4f}\")\n",
    "\n",
    "    def backward(self, Q, V, A, B, O, PI):\n",
    "        N = len(Q) # 隐藏状态序列长度\n",
    "        M = len(O) # 观测状态序列长度\n",
    "        betas = np.ones((N,M)) # 初始化后向概率\n",
    "        # 算法原理 https://s1.ax1x.com/2020/10/21/BC1AC6.png\n",
    "        # 代码逻辑 https://s1.ax1x.com/2020/10/21/BPkLGj.jpg\n",
    "        for t in range(M - 2, -1, -1): # 对观测序列逆向遍历\n",
    "            index_O = V.index(O[t+1])  # 观测为t+1的\n",
    "            print(f\"time {t+1} and observe state is {O[t+1]}\") # 因为这边python的索引是从0开始的\n",
    "            for i in range(N): # 通过t+1时刻N个状态的后向概率计算t时刻i状态的后向概率\n",
    "                betas[i,t] = np.dot(np.multiply(A[i],[b[index_O] for b in B]),[beta[t+1] for beta in betas])\n",
    "                if t == 0:\n",
    "                    print(f\"time {t+1} state {Q[i]} beta is {betas[i,t]:.4f}\")\n",
    "\n",
    "        index_first = V.index(O[0]) # 第一个观测在观测集合中的索引\n",
    "        self.beats = betas\n",
    "        p = np.dot(np.multiply(PI,[b[index_first] for b in B]),[beta[0] for beta in betas])\n",
    "        self.backward_p = p\n",
    "        print(f\"pi is {PI}\")\n",
    "        print(f\"finally p is {self.backward_p:.4f}\")\n",
    "\n",
    "    def viterbi(self, Q, V, A, B, O, PI):\n",
    "        N = len(Q) # 隐藏状态序列长度\n",
    "        M = len(O) # 观测状态序列长度\n",
    "        deltas = np.zeros((N, M)) # 局部状态1\n",
    "        I = np.zeros(M) # 初始化最优路径矩阵，该矩阵维度与观测序列维度相同\n",
    "        psis = np.zeros((N, M)) # 初始化psis\n",
    "        # 算法原理 https://s1.ax1x.com/2020/10/21/BPut3D.png\n",
    "        # 计算例子 https://s1.ax1x.com/2020/10/21/BPuWuj.jpg\n",
    "        # 代码逻辑\n",
    "        for t in range(M):\n",
    "            index_O = V.index(O[t])\n",
    "            print(f\"time {t + 1} and observe state is {O[t]}\")  # 因为这边python的索引是从0开始的\n",
    "            for i in range(N):\n",
    "                if t == 0: # 初始化局部状态\n",
    "                    deltas[i,t] = PI[i] * B[i,index_O]\n",
    "                    psis[i,t] = 0\n",
    "                else:\n",
    "                    deltas[i, t] = np.max(np.multiply([delta[t - 1] for delta in deltas],\n",
    "                                                      [a[i] for a in A])) * B[i,index_O]\n",
    "                    psis[i,t] = np.argmax(np.multiply([delta[t - 1] for delta in deltas],\n",
    "                                                      [a[i] for a in A]))\n",
    "                print(f\"hidden state {i+1} max deltas is {deltas[i, t]:.4f} and psis is {psis[i, t]}\")\n",
    "\n",
    "        I[M - 1] = np.argmax([delta[M - 1] for delta in deltas]) # 最后时刻，概率最大的隐状态\n",
    "        for t in range(M - 2, -1, -1): # 递归由后向前得到其他结点\n",
    "            I[t] = psis[int(I[t+1]),t+1]\n",
    "\n",
    "        print(f\"finally sequence is {I+1}\") # python的索引是从0开始的"
   ]
  }
 ],
 "metadata": {
  "kernelspec": {
   "display_name": "Python 3",
   "language": "python",
   "name": "python3"
  },
  "language_info": {
   "codemirror_mode": {
    "name": "ipython",
    "version": 3
   },
   "file_extension": ".py",
   "mimetype": "text/x-python",
   "name": "python",
   "nbconvert_exporter": "python",
   "pygments_lexer": "ipython3",
   "version": "3.8.6"
  },
  "toc": {
   "base_numbering": 1,
   "nav_menu": {},
   "number_sections": true,
   "sideBar": true,
   "skip_h1_title": false,
   "title_cell": "Table of Contents",
   "title_sidebar": "Contents",
   "toc_cell": false,
   "toc_position": {},
   "toc_section_display": true,
   "toc_window_display": false
  },
  "varInspector": {
   "cols": {
    "lenName": 16,
    "lenType": 16,
    "lenVar": "100"
   },
   "kernels_config": {
    "python": {
     "delete_cmd_postfix": "",
     "delete_cmd_prefix": "del ",
     "library": "var_list.py",
     "varRefreshCmd": "print(var_dic_list())"
    },
    "r": {
     "delete_cmd_postfix": ") ",
     "delete_cmd_prefix": "rm(",
     "library": "var_list.r",
     "varRefreshCmd": "cat(var_dic_list()) "
    }
   },
   "types_to_exclude": [
    "module",
    "function",
    "builtin_function_or_method",
    "instance",
    "_Feature"
   ],
   "window_display": false
  }
 },
 "nbformat": 4,
 "nbformat_minor": 4
}
